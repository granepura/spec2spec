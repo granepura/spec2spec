{
 "cells": [
  {
   "cell_type": "code",
   "execution_count": 1,
   "id": "7590db45-46f6-43b1-95d1-a811fe76f218",
   "metadata": {},
   "outputs": [],
   "source": [
    "import numpy as np\n",
    "%load_ext autoreload\n",
    "%autoreload 2\n",
    "import torch\n",
    "from torch import nn\n",
    "from torch.utils.data import DataLoader\n",
    "from transformer import TransformerReg"
   ]
  },
  {
   "cell_type": "code",
   "execution_count": null,
   "id": "1483d39c-f386-4a26-beab-e283db40040c",
   "metadata": {},
   "outputs": [],
   "source": [
    "class ASPCAP():\n",
    "    \"\"\" \n",
    "    apogee dr16 aspcap instance\n",
    "    \"\"\"\n",
    "\n",
    "    def __init__(self, npydata, device=torch.device('cpu')):\n",
    "        self.dic = np.load(npydata, allow_pickle=True).item()\n",
    "        self.device = device\n",
    "        \n",
    "        self.flux = self.dic['flux']\n",
    "        self.prlx = self.dic['']\n",
    "        self.eprlx = self.dic['']\n",
    "        self.tmass_iod = self.dic['']\n",
    "        self.\n",
    "                \n",
    "    def __len__(self) -> int:\n",
    "        num_sets = len(self.MANGAID)\n",
    "        return num_sets\n",
    "    \n",
    "    def __getitem__(self, idx: int):\n",
    "        mangaid = self.MANGAID[idx]\n",
    "        visit   = self.MANGAID_specs==mangaid\n",
    "        flux    = torch.tensor(self.fluxes[visit][0].reshape(-1,1).astype(np.float32))\n",
    "        output  = torch.tensor(self.pars[idx].reshape(-1,1).astype(np.float32))\n",
    "        return flux.to(self.device), output.to(self.device)"
   ]
  }
 ],
 "metadata": {
  "kernelspec": {
   "display_name": "Python 3 (ipykernel)",
   "language": "python",
   "name": "python3"
  },
  "language_info": {
   "codemirror_mode": {
    "name": "ipython",
    "version": 3
   },
   "file_extension": ".py",
   "mimetype": "text/x-python",
   "name": "python",
   "nbconvert_exporter": "python",
   "pygments_lexer": "ipython3",
   "version": "3.9.13"
  }
 },
 "nbformat": 4,
 "nbformat_minor": 5
}
