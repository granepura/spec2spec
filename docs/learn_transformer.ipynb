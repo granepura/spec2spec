{
 "cells": [
  {
   "cell_type": "code",
   "execution_count": 1,
   "id": "943dcd57-1f27-4ffc-9cb4-a6f6985c7842",
   "metadata": {},
   "outputs": [],
   "source": [
    "import math\n",
    "from typing import Tuple\n",
    "import time\n",
    "import torch\n",
    "from torch import nn, Tensor\n",
    "import torch.nn.functional as F\n",
    "from torch.utils.data import dataset, DataLoader"
   ]
  },
  {
   "cell_type": "code",
   "execution_count": 12,
   "id": "ac8838d5-44a9-4574-b6cf-13903472abaf",
   "metadata": {},
   "outputs": [],
   "source": [
    "\n",
    "\n",
    "transformer_model = nn.Transformer(d_model=1, nhead=1, num_encoder_layers=12, batch_first=True)\n",
    "src = torch.rand((5, 1000, 1))\n",
    "tgt = torch.rand((5, 2, 1))\n",
    "out = transformer_model(src, tgt)"
   ]
  },
  {
   "cell_type": "code",
   "execution_count": 13,
   "id": "a6568350-894a-4352-b676-d46557c48084",
   "metadata": {},
   "outputs": [
    {
     "data": {
      "text/plain": [
       "torch.Size([5, 2, 1])"
      ]
     },
     "execution_count": 13,
     "metadata": {},
     "output_type": "execute_result"
    }
   ],
   "source": [
    "out.shape"
   ]
  },
  {
   "cell_type": "code",
   "execution_count": null,
   "id": "b2e3d664-a82c-4110-9bc1-23847eaf7fa3",
   "metadata": {},
   "outputs": [],
   "source": []
  }
 ],
 "metadata": {
  "kernelspec": {
   "display_name": "Python 3 (ipykernel)",
   "language": "python",
   "name": "python3"
  },
  "language_info": {
   "codemirror_mode": {
    "name": "ipython",
    "version": 3
   },
   "file_extension": ".py",
   "mimetype": "text/x-python",
   "name": "python",
   "nbconvert_exporter": "python",
   "pygments_lexer": "ipython3",
   "version": "3.9.13"
  }
 },
 "nbformat": 4,
 "nbformat_minor": 5
}
