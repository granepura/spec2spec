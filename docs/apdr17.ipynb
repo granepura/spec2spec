{
 "cells": [
  {
   "cell_type": "code",
   "execution_count": 13,
   "id": "63112f57-e050-4ace-879e-b10b2a610dd6",
   "metadata": {
    "tags": []
   },
   "outputs": [],
   "source": [
    "# import os\n",
    "# os.environ[\"SDSS_LOCAL_SAS_MIRROR\"]=\"/data/jdli/sdss/\"\n",
    "# # os.environ[\"RESULTS_VERS\"]=\"dr17\"\n",
    "# os.environ[\"RESULTS_VERS\"]=\"dr17\" # dr16\n",
    "import os\n",
    "os.environ[\"SDSS_LOCAL_SAS_MIRROR\"]=\"/data/jdli/sdss/\"\n",
    "os.environ[\"RESULTS_VERS\"]=\"dr17\"\n",
    "import apogee.tools.read as apread\n",
    "\n",
    "# allStar= apread.allStar(rmcommissioning=True,main=False,ak=True, akvers='targ',adddist=False)\n"
   ]
  },
  {
   "cell_type": "code",
   "execution_count": 6,
   "id": "de027c63-ba8d-4a43-ba95-389100d5b44a",
   "metadata": {},
   "outputs": [
    {
     "name": "stdout",
     "output_type": "stream",
     "text": [
      "The autoreload extension is already loaded. To reload it, use:\n",
      "  %reload_ext autoreload\n"
     ]
    }
   ],
   "source": [
    "%matplotlib inline\n",
    "%load_ext autoreload\n",
    "%autoreload 2\n",
    "from pylab import *\n",
    "import os\n",
    "\n",
    "from astropy.table import Table, join\n",
    "from astropy.io import fits\n",
    "from tqdm import tqdm\n",
    "import numpy as np\n",
    "\n",
    "try:\n",
    "    import fitsio\n",
    "    fitsread= fitsio.read\n",
    "    fitswrite=fitsio.write\n",
    "    headerread=fitsio.read_header\n",
    "    _FITSIO_LOADED = True\n",
    "    \n",
    "except ImportError:\n",
    "    import astropy.io.fits as pyfits\n",
    "    fitsread= pyfits.getdata\n",
    "    fitswrite=pyfits.writeto\n",
    "    headerread=pyfits.getheader\n",
    "    _FITSIO_LOADED = False\n",
    "\n",
    "cat = Table.read(os.environ[\"SDSS_LOCAL_SAS_MIRROR\"]+\"/dr17/ap17_gdr3_tr.fits\")\n",
    "# df = cat.to_pandas()\n",
    "# print(df.shape, df.columns)"
   ]
  },
  {
   "cell_type": "code",
   "execution_count": 26,
   "id": "5c163d02-f748-4433-ac54-6c18eb5e9954",
   "metadata": {},
   "outputs": [
    {
     "name": "stdout",
     "output_type": "stream",
     "text": [
      "allStar-dr17-synspec_rev1.fits\tallStarLite-dr17-synspec_rev1.fits\n"
     ]
    }
   ],
   "source": [
    "!ls /data/jdli/sdss/dr17/apogee/spectro/aspcap/dr17/synspec_rev1\n"
   ]
  },
  {
   "cell_type": "code",
   "execution_count": 25,
   "id": "0e322eb8-ecb7-478f-aa99-08dd45f2b0e6",
   "metadata": {},
   "outputs": [
    {
     "name": "stderr",
     "output_type": "stream",
     "text": [
      "WARNING: hdu= was not specified but multiple tables are present, reading in first available table (hdu=1) [astropy.io.fits.connect]\n",
      "WARNING:astropy:hdu= was not specified but multiple tables are present, reading in first available table (hdu=1)\n"
     ]
    }
   ],
   "source": [
    "cat_raw = Table.read(os.environ[\"SDSS_LOCAL_SAS_MIRROR\"]+\"/dr17/apogee/spectro/aspcap/dr17/synspec_rev1/allStar-dr17-synspec_rev1.fits\")"
   ]
  },
  {
   "cell_type": "code",
   "execution_count": 74,
   "id": "2a2c0116-70ab-43d1-bc2d-4a610e047968",
   "metadata": {
    "tags": []
   },
   "outputs": [],
   "source": [
    "cat_post = join(\n",
    "    cat, cat_raw['LOCATION_ID', 'GAIAEDR3_SOURCE_ID'], join_type='left',\n",
    "    keys='GAIAEDR3_SOURCE_ID'\n",
    ")"
   ]
  },
  {
   "cell_type": "code",
   "execution_count": 8,
   "id": "44925618-e0fd-4dac-8ec7-7d5754a9cb58",
   "metadata": {},
   "outputs": [],
   "source": [
    "from astroNN.apogee import visit_spectra, apogee_continuum\n",
    "from astropy.io import fits\n",
    "from tqdm import tqdm\n"
   ]
  },
  {
   "cell_type": "code",
   "execution_count": null,
   "id": "b21547db-95c2-427e-91a2-9a3fda4bef32",
   "metadata": {},
   "outputs": [
    {
     "name": "stderr",
     "output_type": "stream",
     "text": [
      "  1%|▍                                                               | 743/104007 [57:33<38:25:20,  1.34s/it]/data/jdli/anaconda3/envs/gaia/lib/python3.9/site-packages/astroNN-1.1.dev0-py3.9.egg/astroNN/apogee/downloader.py:836: UserWarning: https://data.sdss.org/sas/dr17/apogee/spectro/redux/dr17/stars/apo25m/K2_C13_171-20_btx/apStar-dr17-2M04075229+2407347.fits cannot be found on server, skipped\n",
      "  warnings.warn(f\"{urlstr} cannot be found on server, skipped\")\n",
      "  1%|▊                                                            | 1404/104007 [1:59:23<81:17:19,  2.85s/it]/data/jdli/anaconda3/envs/gaia/lib/python3.9/site-packages/astroNN-1.1.dev0-py3.9.egg/astroNN/apogee/downloader.py:836: UserWarning: https://data.sdss.org/sas/dr17/apogee/spectro/redux/dr17/stars/apo25m/147-46_MGA/apStar-dr17-2M02012057+1242433.fits cannot be found on server, skipped\n",
      "  warnings.warn(f\"{urlstr} cannot be found on server, skipped\")\n",
      "  4%|██                                                       | 3677/104007 [6:30:43<10433:09:15, 374.36s/it]"
     ]
    },
    {
     "name": "stdout",
     "output_type": "stream",
     "text": [
      "spec download failed\n"
     ]
    },
    {
     "name": "stderr",
     "output_type": "stream",
     "text": [
      "  7%|███▉                                                    | 7427/104007 [16:13:30<10025:00:42, 373.68s/it]"
     ]
    },
    {
     "name": "stdout",
     "output_type": "stream",
     "text": [
      "spec download failed\n"
     ]
    },
    {
     "name": "stderr",
     "output_type": "stream",
     "text": [
      "  7%|████▏                                                    | 7665/104007 [17:10:23<9982:45:08, 373.02s/it]"
     ]
    },
    {
     "name": "stdout",
     "output_type": "stream",
     "text": [
      "spec download failed\n"
     ]
    },
    {
     "name": "stderr",
     "output_type": "stream",
     "text": [
      "  9%|█████▌                                                     | 9812/104007 [21:56:40<218:59:17,  8.37s/it]"
     ]
    }
   ],
   "source": [
    "N_cat = len(cat_post)\n",
    "fnames = []\n",
    "\n",
    "for i in tqdm(range(N_cat)):\n",
    "    try:\n",
    "        fname = visit_spectra(\n",
    "            dr=17, \n",
    "            location=cat_post['LOCATION_ID'][i], \n",
    "            apogee=cat_post['APOGEE_ID'][i].strip()\n",
    "        )\n",
    "        fnames.append(fname)\n",
    "    except:\n",
    "        print(\"spec download failed\")\n",
    "    "
   ]
  },
  {
   "cell_type": "code",
   "execution_count": null,
   "id": "f486ee52-c3a8-4bc0-9815-03bd176c1a41",
   "metadata": {},
   "outputs": [],
   "source": [
    "len(fnames)"
   ]
  },
  {
   "cell_type": "code",
   "execution_count": null,
   "id": "1a8c4b0f-279c-446d-b8d6-e04c4b9b4c8c",
   "metadata": {},
   "outputs": [],
   "source": [
    "def read_spec(fname):\n",
    "    pri_header = headerread(fname, 0, memmap=False)\n",
    "    flux = fitsread(fname,1, memmap=False)\n",
    "    e_flux = fitsread(fname, 2, memmap=False)\n",
    "    mask = fitsread(fname, 3, memmap=False)\n",
    "    \n",
    "    if (len(flux.shape)>1)&(len(e_flux.shape)>1)&(len(mask.shape)>1):\n",
    "        flux, e_flux, mask = flux[0], e_flux[0], mask[0] \n",
    "\n",
    "    return {'tmass_id':pri_header['OBJID'], 'flux':flux, 'fluxerr':e_flux, 'mask':mask}\n",
    "\n",
    "\n",
    "# read_spec(fname_lst[0])\n",
    "\n",
    "# specDict_lst = run_complex_operations(read_spec, fname_lst[:10], processes_pool)\n",
    "specDict_lst = []\n",
    "\n",
    "for f in tqdm(fname_lst):\n",
    "    try:\n",
    "        dic = read_spec(f)\n",
    "        specDict_lst.append(dic)\n",
    "    except:\n",
    "        print(\"file load failed\")\n",
    "# print(len(specDict_lst))"
   ]
  },
  {
   "cell_type": "code",
   "execution_count": null,
   "id": "b0753e1b-e34c-4c1c-a75c-64d7e8bddc62",
   "metadata": {},
   "outputs": [],
   "source": [
    "normspecDict_trlst = []\n",
    "normspecDict_vallst= []\n",
    "\n",
    "for i in tqdm(range(len(specDict_lst))):\n",
    "    d = specDict_lst[i]\n",
    "    \n",
    "    try: \n",
    "        spec = d['flux']\n",
    "        spec_err = d['fluxerr']\n",
    "        spec_mask = d['mask']\n",
    "\n",
    "        norm_spec, norm_spec_err = apogee_continuum(\n",
    "            spec, spec_err, bitmask=spec_mask, dr=14\n",
    "        )\n",
    "\n",
    "        ind = df['2MASS_ID'].str.decode(\"utf-8\")==d['tmass_id']\n",
    "        prlx, e_prlx = df[ind]['Gaia_parallax'].values, df[ind]['Gaia_parallax_err'].values\n",
    "        prlx_hogg, e_prlx_hogg = df[ind]['spec_parallax'].values, df[ind]['spec_parallax_err'].values\n",
    "        mags = df[['Jmag', 'Hmag', 'Kmag', 'W1mag', 'W2mag']][ind].values\n",
    "\n",
    "        data = {'norm_spec':norm_spec, 'norm_spec_err':norm_spec_err, \n",
    "                'mag':mags, \n",
    "                'tmass_id':d['tmass_id'], \n",
    "                'Gaia_parallax':prlx,  'Gaia_parallax_err':e_prlx, \n",
    "                'spec_parallax':prlx_hogg, 'spec_parallax_err':e_prlx_hogg,}\n",
    "\n",
    "        if df[ind]['training_set'].values==1:\n",
    "            normspecDict_trlst.append(data)\n",
    "        elif df[ind]['training_set'].values==0:\n",
    "            normspecDict_vallst.append(data)\n",
    "        else:\n",
    "            print(df['training_set'][ind].values)\n",
    "            \n",
    "    except:\n",
    "        print(\"normalization failed\")\n",
    "        \n",
    "print(len(normspecDict_trlst), len(normspecDict_vallst))"
   ]
  }
 ],
 "metadata": {
  "kernelspec": {
   "display_name": "Python 3 (ipykernel)",
   "language": "python",
   "name": "python3"
  },
  "language_info": {
   "codemirror_mode": {
    "name": "ipython",
    "version": 3
   },
   "file_extension": ".py",
   "mimetype": "text/x-python",
   "name": "python",
   "nbconvert_exporter": "python",
   "pygments_lexer": "ipython3",
   "version": "3.9.13"
  }
 },
 "nbformat": 4,
 "nbformat_minor": 5
}
